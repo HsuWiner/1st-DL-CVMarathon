{
 "cells": [
  {
   "cell_type": "markdown",
   "metadata": {
    "colab_type": "text",
    "id": "CymtLvLsl4iT"
   },
   "source": [
    "## Day 019 作業：DataFrame 的排序及顯示\n",
    "\n",
    "同 Day 017，請載入 2020/4/2 COVID-19 Daily Report 資料集，計算每個國家/區域的累計確診人數。\n",
    "\n",
    "請依確診案例數，列出截至4月2日為止 (UTC 時間)，確診案例最多的10個國家/區域。"
   ]
  },
  {
   "cell_type": "code",
   "execution_count": 1,
   "metadata": {
    "colab": {},
    "colab_type": "code",
    "id": "czd81DRQl4iW"
   },
   "outputs": [],
   "source": [
    "using DataFrames, CSV"
   ]
  },
  {
   "cell_type": "code",
   "execution_count": 2,
   "metadata": {
    "colab": {},
    "colab_type": "code",
    "id": "sLp0Kx89l4ic"
   },
   "outputs": [
    {
     "data": {
      "text/html": [
       "<table class=\"data-frame\"><thead><tr><th></th><th>FIPS</th><th>Admin2</th><th>Province_State</th><th>Country_Region</th><th>Last_Update</th><th>Lat</th></tr><tr><th></th><th>Int64⍰</th><th>String⍰</th><th>String⍰</th><th>String</th><th>String</th><th>Float64⍰</th></tr></thead><tbody><p>2,569 rows × 12 columns (omitted printing of 6 columns)</p><tr><th>1</th><td>45001</td><td>Abbeville</td><td>South Carolina</td><td>US</td><td>2020-04-02 23:25:27</td><td>34.2233</td></tr><tr><th>2</th><td>22001</td><td>Acadia</td><td>Louisiana</td><td>US</td><td>2020-04-02 23:25:27</td><td>30.2951</td></tr><tr><th>3</th><td>51001</td><td>Accomack</td><td>Virginia</td><td>US</td><td>2020-04-02 23:25:27</td><td>37.7671</td></tr><tr><th>4</th><td>16001</td><td>Ada</td><td>Idaho</td><td>US</td><td>2020-04-02 23:25:27</td><td>43.4527</td></tr><tr><th>5</th><td>19001</td><td>Adair</td><td>Iowa</td><td>US</td><td>2020-04-02 23:25:27</td><td>41.3308</td></tr><tr><th>6</th><td>29001</td><td>Adair</td><td>Missouri</td><td>US</td><td>2020-04-02 23:25:27</td><td>40.1906</td></tr><tr><th>7</th><td>40001</td><td>Adair</td><td>Oklahoma</td><td>US</td><td>2020-04-02 23:25:27</td><td>35.8849</td></tr><tr><th>8</th><td>8001</td><td>Adams</td><td>Colorado</td><td>US</td><td>2020-04-02 23:25:27</td><td>39.8743</td></tr><tr><th>9</th><td>16003</td><td>Adams</td><td>Idaho</td><td>US</td><td>2020-04-02 23:25:27</td><td>44.8933</td></tr><tr><th>10</th><td>17001</td><td>Adams</td><td>Illinois</td><td>US</td><td>2020-04-02 23:25:27</td><td>39.9882</td></tr><tr><th>11</th><td>18001</td><td>Adams</td><td>Indiana</td><td>US</td><td>2020-04-02 23:25:27</td><td>40.7458</td></tr><tr><th>12</th><td>28001</td><td>Adams</td><td>Mississippi</td><td>US</td><td>2020-04-02 23:25:27</td><td>31.4767</td></tr><tr><th>13</th><td>31001</td><td>Adams</td><td>Nebraska</td><td>US</td><td>2020-04-02 23:25:27</td><td>40.5245</td></tr><tr><th>14</th><td>42001</td><td>Adams</td><td>Pennsylvania</td><td>US</td><td>2020-04-02 23:25:27</td><td>39.8714</td></tr><tr><th>15</th><td>53001</td><td>Adams</td><td>Washington</td><td>US</td><td>2020-04-02 23:25:27</td><td>46.983</td></tr><tr><th>16</th><td>55001</td><td>Adams</td><td>Wisconsin</td><td>US</td><td>2020-04-02 23:25:27</td><td>43.9697</td></tr><tr><th>17</th><td>50001</td><td>Addison</td><td>Vermont</td><td>US</td><td>2020-04-02 23:25:27</td><td>44.0322</td></tr><tr><th>18</th><td>45003</td><td>Aiken</td><td>South Carolina</td><td>US</td><td>2020-04-02 23:25:27</td><td>33.5434</td></tr><tr><th>19</th><td>12001</td><td>Alachua</td><td>Florida</td><td>US</td><td>2020-04-02 23:25:27</td><td>29.6787</td></tr><tr><th>20</th><td>37001</td><td>Alamance</td><td>North Carolina</td><td>US</td><td>2020-04-02 23:25:27</td><td>36.0435</td></tr><tr><th>21</th><td>6001</td><td>Alameda</td><td>California</td><td>US</td><td>2020-04-02 23:25:27</td><td>37.6463</td></tr><tr><th>22</th><td>8003</td><td>Alamosa</td><td>Colorado</td><td>US</td><td>2020-04-02 23:25:27</td><td>37.5725</td></tr><tr><th>23</th><td>36001</td><td>Albany</td><td>New York</td><td>US</td><td>2020-04-02 23:25:27</td><td>42.6006</td></tr><tr><th>24</th><td>56001</td><td>Albany</td><td>Wyoming</td><td>US</td><td>2020-04-02 23:25:27</td><td>41.655</td></tr><tr><th>25</th><td>51003</td><td>Albemarle</td><td>Virginia</td><td>US</td><td>2020-04-02 23:25:27</td><td>38.0208</td></tr><tr><th>26</th><td>28003</td><td>Alcorn</td><td>Mississippi</td><td>US</td><td>2020-04-02 23:25:27</td><td>34.8808</td></tr><tr><th>27</th><td>37003</td><td>Alexander</td><td>North Carolina</td><td>US</td><td>2020-04-02 23:25:27</td><td>35.9224</td></tr><tr><th>28</th><td>51510</td><td>Alexandria</td><td>Virginia</td><td>US</td><td>2020-04-02 23:25:27</td><td>38.814</td></tr><tr><th>29</th><td>19005</td><td>Allamakee</td><td>Iowa</td><td>US</td><td>2020-04-02 23:25:27</td><td>43.2838</td></tr><tr><th>30</th><td>26005</td><td>Allegan</td><td>Michigan</td><td>US</td><td>2020-04-02 23:25:27</td><td>42.5915</td></tr><tr><th>&vellip;</th><td>&vellip;</td><td>&vellip;</td><td>&vellip;</td><td>&vellip;</td><td>&vellip;</td><td>&vellip;</td></tr></tbody></table>"
      ],
      "text/latex": [
       "\\begin{tabular}{r|ccccccc}\n",
       "\t& FIPS & Admin2 & Province\\_State & Country\\_Region & Last\\_Update & Lat & \\\\\n",
       "\t\\hline\n",
       "\t& Int64⍰ & String⍰ & String⍰ & String & String & Float64⍰ & \\\\\n",
       "\t\\hline\n",
       "\t1 & 45001 & Abbeville & South Carolina & US & 2020-04-02 23:25:27 & 34.2233 & $\\dots$ \\\\\n",
       "\t2 & 22001 & Acadia & Louisiana & US & 2020-04-02 23:25:27 & 30.2951 & $\\dots$ \\\\\n",
       "\t3 & 51001 & Accomack & Virginia & US & 2020-04-02 23:25:27 & 37.7671 & $\\dots$ \\\\\n",
       "\t4 & 16001 & Ada & Idaho & US & 2020-04-02 23:25:27 & 43.4527 & $\\dots$ \\\\\n",
       "\t5 & 19001 & Adair & Iowa & US & 2020-04-02 23:25:27 & 41.3308 & $\\dots$ \\\\\n",
       "\t6 & 29001 & Adair & Missouri & US & 2020-04-02 23:25:27 & 40.1906 & $\\dots$ \\\\\n",
       "\t7 & 40001 & Adair & Oklahoma & US & 2020-04-02 23:25:27 & 35.8849 & $\\dots$ \\\\\n",
       "\t8 & 8001 & Adams & Colorado & US & 2020-04-02 23:25:27 & 39.8743 & $\\dots$ \\\\\n",
       "\t9 & 16003 & Adams & Idaho & US & 2020-04-02 23:25:27 & 44.8933 & $\\dots$ \\\\\n",
       "\t10 & 17001 & Adams & Illinois & US & 2020-04-02 23:25:27 & 39.9882 & $\\dots$ \\\\\n",
       "\t11 & 18001 & Adams & Indiana & US & 2020-04-02 23:25:27 & 40.7458 & $\\dots$ \\\\\n",
       "\t12 & 28001 & Adams & Mississippi & US & 2020-04-02 23:25:27 & 31.4767 & $\\dots$ \\\\\n",
       "\t13 & 31001 & Adams & Nebraska & US & 2020-04-02 23:25:27 & 40.5245 & $\\dots$ \\\\\n",
       "\t14 & 42001 & Adams & Pennsylvania & US & 2020-04-02 23:25:27 & 39.8714 & $\\dots$ \\\\\n",
       "\t15 & 53001 & Adams & Washington & US & 2020-04-02 23:25:27 & 46.983 & $\\dots$ \\\\\n",
       "\t16 & 55001 & Adams & Wisconsin & US & 2020-04-02 23:25:27 & 43.9697 & $\\dots$ \\\\\n",
       "\t17 & 50001 & Addison & Vermont & US & 2020-04-02 23:25:27 & 44.0322 & $\\dots$ \\\\\n",
       "\t18 & 45003 & Aiken & South Carolina & US & 2020-04-02 23:25:27 & 33.5434 & $\\dots$ \\\\\n",
       "\t19 & 12001 & Alachua & Florida & US & 2020-04-02 23:25:27 & 29.6787 & $\\dots$ \\\\\n",
       "\t20 & 37001 & Alamance & North Carolina & US & 2020-04-02 23:25:27 & 36.0435 & $\\dots$ \\\\\n",
       "\t21 & 6001 & Alameda & California & US & 2020-04-02 23:25:27 & 37.6463 & $\\dots$ \\\\\n",
       "\t22 & 8003 & Alamosa & Colorado & US & 2020-04-02 23:25:27 & 37.5725 & $\\dots$ \\\\\n",
       "\t23 & 36001 & Albany & New York & US & 2020-04-02 23:25:27 & 42.6006 & $\\dots$ \\\\\n",
       "\t24 & 56001 & Albany & Wyoming & US & 2020-04-02 23:25:27 & 41.655 & $\\dots$ \\\\\n",
       "\t25 & 51003 & Albemarle & Virginia & US & 2020-04-02 23:25:27 & 38.0208 & $\\dots$ \\\\\n",
       "\t26 & 28003 & Alcorn & Mississippi & US & 2020-04-02 23:25:27 & 34.8808 & $\\dots$ \\\\\n",
       "\t27 & 37003 & Alexander & North Carolina & US & 2020-04-02 23:25:27 & 35.9224 & $\\dots$ \\\\\n",
       "\t28 & 51510 & Alexandria & Virginia & US & 2020-04-02 23:25:27 & 38.814 & $\\dots$ \\\\\n",
       "\t29 & 19005 & Allamakee & Iowa & US & 2020-04-02 23:25:27 & 43.2838 & $\\dots$ \\\\\n",
       "\t30 & 26005 & Allegan & Michigan & US & 2020-04-02 23:25:27 & 42.5915 & $\\dots$ \\\\\n",
       "\t$\\dots$ & $\\dots$ & $\\dots$ & $\\dots$ & $\\dots$ & $\\dots$ & $\\dots$ &  \\\\\n",
       "\\end{tabular}\n"
      ],
      "text/plain": [
       "2569×12 DataFrame. Omitted printing of 8 columns\n",
       "│ Row  │ FIPS    │ Admin2     │ Province_State │ Country_Region       │\n",
       "│      │ \u001b[90mInt64⍰\u001b[39m  │ \u001b[90mString⍰\u001b[39m    │ \u001b[90mString⍰\u001b[39m        │ \u001b[90mString\u001b[39m               │\n",
       "├──────┼─────────┼────────────┼────────────────┼──────────────────────┤\n",
       "│ 1    │ 45001   │ Abbeville  │ South Carolina │ US                   │\n",
       "│ 2    │ 22001   │ Acadia     │ Louisiana      │ US                   │\n",
       "│ 3    │ 51001   │ Accomack   │ Virginia       │ US                   │\n",
       "│ 4    │ 16001   │ Ada        │ Idaho          │ US                   │\n",
       "│ 5    │ 19001   │ Adair      │ Iowa           │ US                   │\n",
       "│ 6    │ 29001   │ Adair      │ Missouri       │ US                   │\n",
       "│ 7    │ 40001   │ Adair      │ Oklahoma       │ US                   │\n",
       "│ 8    │ 8001    │ Adams      │ Colorado       │ US                   │\n",
       "│ 9    │ 16003   │ Adams      │ Idaho          │ US                   │\n",
       "│ 10   │ 17001   │ Adams      │ Illinois       │ US                   │\n",
       "⋮\n",
       "│ 2559 │ \u001b[90mmissing\u001b[39m │ \u001b[90mmissing\u001b[39m    │ \u001b[90mmissing\u001b[39m        │ Ukraine              │\n",
       "│ 2560 │ \u001b[90mmissing\u001b[39m │ \u001b[90mmissing\u001b[39m    │ \u001b[90mmissing\u001b[39m        │ United Arab Emirates │\n",
       "│ 2561 │ \u001b[90mmissing\u001b[39m │ \u001b[90mmissing\u001b[39m    │ \u001b[90mmissing\u001b[39m        │ United Kingdom       │\n",
       "│ 2562 │ \u001b[90mmissing\u001b[39m │ \u001b[90mmissing\u001b[39m    │ \u001b[90mmissing\u001b[39m        │ Uruguay              │\n",
       "│ 2563 │ \u001b[90mmissing\u001b[39m │ \u001b[90mmissing\u001b[39m    │ \u001b[90mmissing\u001b[39m        │ Uzbekistan           │\n",
       "│ 2564 │ \u001b[90mmissing\u001b[39m │ \u001b[90mmissing\u001b[39m    │ \u001b[90mmissing\u001b[39m        │ Venezuela            │\n",
       "│ 2565 │ \u001b[90mmissing\u001b[39m │ \u001b[90mmissing\u001b[39m    │ \u001b[90mmissing\u001b[39m        │ Vietnam              │\n",
       "│ 2566 │ \u001b[90mmissing\u001b[39m │ \u001b[90mmissing\u001b[39m    │ \u001b[90mmissing\u001b[39m        │ West Bank and Gaza   │\n",
       "│ 2567 │ \u001b[90mmissing\u001b[39m │ \u001b[90mmissing\u001b[39m    │ \u001b[90mmissing\u001b[39m        │ Zambia               │\n",
       "│ 2568 │ \u001b[90mmissing\u001b[39m │ \u001b[90mmissing\u001b[39m    │ \u001b[90mmissing\u001b[39m        │ Zimbabwe             │\n",
       "│ 2569 │ \u001b[90mmissing\u001b[39m │ unassigned │ Wyoming        │ US                   │"
      ]
     },
     "execution_count": 2,
     "metadata": {},
     "output_type": "execute_result"
    }
   ],
   "source": [
    "df = CSV.read(\"04-02-2020.csv\")"
   ]
  },
  {
   "cell_type": "code",
   "execution_count": 3,
   "metadata": {
    "colab": {},
    "colab_type": "code",
    "id": "XFKjf3bVl4ih"
   },
   "outputs": [
    {
     "data": {
      "text/html": [
       "<table class=\"data-frame\"><thead><tr><th></th><th>Province_State</th><th>Country_Region</th><th>Confirmed_sum</th><th>Deaths_sum</th><th>Recovered_sum</th></tr><tr><th></th><th>String⍰</th><th>String</th><th>Int64</th><th>Int64</th><th>Int64</th></tr></thead><tbody><p>315 rows × 5 columns</p><tr><th>1</th><td>South Carolina</td><td>US</td><td>1554</td><td>31</td><td>0</td></tr><tr><th>2</th><td>Louisiana</td><td>US</td><td>9159</td><td>310</td><td>0</td></tr><tr><th>3</th><td>Virginia</td><td>US</td><td>1706</td><td>41</td><td>0</td></tr><tr><th>4</th><td>Idaho</td><td>US</td><td>776</td><td>9</td><td>0</td></tr><tr><th>5</th><td>Iowa</td><td>US</td><td>614</td><td>11</td><td>0</td></tr><tr><th>6</th><td>Missouri</td><td>US</td><td>1857</td><td>22</td><td>0</td></tr><tr><th>7</th><td>Oklahoma</td><td>US</td><td>881</td><td>34</td><td>0</td></tr><tr><th>8</th><td>Colorado</td><td>US</td><td>3342</td><td>80</td><td>0</td></tr><tr><th>9</th><td>Illinois</td><td>US</td><td>7695</td><td>163</td><td>0</td></tr><tr><th>10</th><td>Indiana</td><td>US</td><td>3038</td><td>78</td><td>0</td></tr><tr><th>11</th><td>Mississippi</td><td>US</td><td>1177</td><td>26</td><td>0</td></tr><tr><th>12</th><td>Nebraska</td><td>US</td><td>246</td><td>5</td><td>0</td></tr><tr><th>13</th><td>Pennsylvania</td><td>US</td><td>7268</td><td>90</td><td>0</td></tr><tr><th>14</th><td>Washington</td><td>US</td><td>6389</td><td>271</td><td>0</td></tr><tr><th>15</th><td>Wisconsin</td><td>US</td><td>1748</td><td>38</td><td>0</td></tr><tr><th>16</th><td>Vermont</td><td>US</td><td>338</td><td>17</td><td>0</td></tr><tr><th>17</th><td>Florida</td><td>US</td><td>9008</td><td>164</td><td>0</td></tr><tr><th>18</th><td>North Carolina</td><td>US</td><td>1977</td><td>21</td><td>0</td></tr><tr><th>19</th><td>California</td><td>US</td><td>10773</td><td>238</td><td>0</td></tr><tr><th>20</th><td>New York</td><td>US</td><td>92506</td><td>2373</td><td>0</td></tr><tr><th>21</th><td>Wyoming</td><td>US</td><td>150</td><td>0</td><td>0</td></tr><tr><th>22</th><td>Michigan</td><td>US</td><td>10791</td><td>417</td><td>0</td></tr><tr><th>23</th><td>Maryland</td><td>US</td><td>2331</td><td>36</td><td>0</td></tr><tr><th>24</th><td>Kentucky</td><td>US</td><td>770</td><td>31</td><td>0</td></tr><tr><th>25</th><td>Ohio</td><td>US</td><td>2901</td><td>81</td><td>0</td></tr><tr><th>26</th><td>Alaska</td><td>US</td><td>143</td><td>3</td><td>0</td></tr><tr><th>27</th><td>Kansas</td><td>US</td><td>553</td><td>12</td><td>0</td></tr><tr><th>28</th><td>Tennessee</td><td>US</td><td>2845</td><td>36</td><td>0</td></tr><tr><th>29</th><td>Texas</td><td>US</td><td>5069</td><td>77</td><td>0</td></tr><tr><th>30</th><td>Maine</td><td>US</td><td>376</td><td>7</td><td>0</td></tr><tr><th>&vellip;</th><td>&vellip;</td><td>&vellip;</td><td>&vellip;</td><td>&vellip;</td><td>&vellip;</td></tr></tbody></table>"
      ],
      "text/latex": [
       "\\begin{tabular}{r|ccccc}\n",
       "\t& Province\\_State & Country\\_Region & Confirmed\\_sum & Deaths\\_sum & Recovered\\_sum\\\\\n",
       "\t\\hline\n",
       "\t& String⍰ & String & Int64 & Int64 & Int64\\\\\n",
       "\t\\hline\n",
       "\t1 & South Carolina & US & 1554 & 31 & 0 \\\\\n",
       "\t2 & Louisiana & US & 9159 & 310 & 0 \\\\\n",
       "\t3 & Virginia & US & 1706 & 41 & 0 \\\\\n",
       "\t4 & Idaho & US & 776 & 9 & 0 \\\\\n",
       "\t5 & Iowa & US & 614 & 11 & 0 \\\\\n",
       "\t6 & Missouri & US & 1857 & 22 & 0 \\\\\n",
       "\t7 & Oklahoma & US & 881 & 34 & 0 \\\\\n",
       "\t8 & Colorado & US & 3342 & 80 & 0 \\\\\n",
       "\t9 & Illinois & US & 7695 & 163 & 0 \\\\\n",
       "\t10 & Indiana & US & 3038 & 78 & 0 \\\\\n",
       "\t11 & Mississippi & US & 1177 & 26 & 0 \\\\\n",
       "\t12 & Nebraska & US & 246 & 5 & 0 \\\\\n",
       "\t13 & Pennsylvania & US & 7268 & 90 & 0 \\\\\n",
       "\t14 & Washington & US & 6389 & 271 & 0 \\\\\n",
       "\t15 & Wisconsin & US & 1748 & 38 & 0 \\\\\n",
       "\t16 & Vermont & US & 338 & 17 & 0 \\\\\n",
       "\t17 & Florida & US & 9008 & 164 & 0 \\\\\n",
       "\t18 & North Carolina & US & 1977 & 21 & 0 \\\\\n",
       "\t19 & California & US & 10773 & 238 & 0 \\\\\n",
       "\t20 & New York & US & 92506 & 2373 & 0 \\\\\n",
       "\t21 & Wyoming & US & 150 & 0 & 0 \\\\\n",
       "\t22 & Michigan & US & 10791 & 417 & 0 \\\\\n",
       "\t23 & Maryland & US & 2331 & 36 & 0 \\\\\n",
       "\t24 & Kentucky & US & 770 & 31 & 0 \\\\\n",
       "\t25 & Ohio & US & 2901 & 81 & 0 \\\\\n",
       "\t26 & Alaska & US & 143 & 3 & 0 \\\\\n",
       "\t27 & Kansas & US & 553 & 12 & 0 \\\\\n",
       "\t28 & Tennessee & US & 2845 & 36 & 0 \\\\\n",
       "\t29 & Texas & US & 5069 & 77 & 0 \\\\\n",
       "\t30 & Maine & US & 376 & 7 & 0 \\\\\n",
       "\t$\\dots$ & $\\dots$ & $\\dots$ & $\\dots$ & $\\dots$ & $\\dots$ \\\\\n",
       "\\end{tabular}\n"
      ],
      "text/plain": [
       "315×5 DataFrame. Omitted printing of 1 columns\n",
       "│ Row │ Province_State │ Country_Region       │ Confirmed_sum │ Deaths_sum │\n",
       "│     │ \u001b[90mString⍰\u001b[39m        │ \u001b[90mString\u001b[39m               │ \u001b[90mInt64\u001b[39m         │ \u001b[90mInt64\u001b[39m      │\n",
       "├─────┼────────────────┼──────────────────────┼───────────────┼────────────┤\n",
       "│ 1   │ South Carolina │ US                   │ 1554          │ 31         │\n",
       "│ 2   │ Louisiana      │ US                   │ 9159          │ 310        │\n",
       "│ 3   │ Virginia       │ US                   │ 1706          │ 41         │\n",
       "│ 4   │ Idaho          │ US                   │ 776           │ 9          │\n",
       "│ 5   │ Iowa           │ US                   │ 614           │ 11         │\n",
       "│ 6   │ Missouri       │ US                   │ 1857          │ 22         │\n",
       "│ 7   │ Oklahoma       │ US                   │ 881           │ 34         │\n",
       "│ 8   │ Colorado       │ US                   │ 3342          │ 80         │\n",
       "│ 9   │ Illinois       │ US                   │ 7695          │ 163        │\n",
       "│ 10  │ Indiana        │ US                   │ 3038          │ 78         │\n",
       "⋮\n",
       "│ 305 │ \u001b[90mmissing\u001b[39m        │ Uganda               │ 45            │ 0          │\n",
       "│ 306 │ \u001b[90mmissing\u001b[39m        │ Ukraine              │ 897           │ 22         │\n",
       "│ 307 │ \u001b[90mmissing\u001b[39m        │ United Arab Emirates │ 1024          │ 8          │\n",
       "│ 308 │ \u001b[90mmissing\u001b[39m        │ United Kingdom       │ 33718         │ 2921       │\n",
       "│ 309 │ \u001b[90mmissing\u001b[39m        │ Uruguay              │ 350           │ 4          │\n",
       "│ 310 │ \u001b[90mmissing\u001b[39m        │ Uzbekistan           │ 205           │ 2          │\n",
       "│ 311 │ \u001b[90mmissing\u001b[39m        │ Venezuela            │ 146           │ 5          │\n",
       "│ 312 │ \u001b[90mmissing\u001b[39m        │ Vietnam              │ 233           │ 0          │\n",
       "│ 313 │ \u001b[90mmissing\u001b[39m        │ West Bank and Gaza   │ 161           │ 1          │\n",
       "│ 314 │ \u001b[90mmissing\u001b[39m        │ Zambia               │ 39            │ 1          │\n",
       "│ 315 │ \u001b[90mmissing\u001b[39m        │ Zimbabwe             │ 9             │ 1          │"
      ]
     },
     "execution_count": 3,
     "metadata": {},
     "output_type": "execute_result"
    }
   ],
   "source": [
    "# 請在此輸入程式碼\n",
    "df2 = by(df,  [:Province_State , :Country_Region] , :Confirmed  => sum , :Deaths => sum , :Recovered => sum)\n"
   ]
  },
  {
   "cell_type": "code",
   "execution_count": 7,
   "metadata": {},
   "outputs": [
    {
     "data": {
      "text/html": [
       "<table class=\"data-frame\"><thead><tr><th></th><th>Province_State</th><th>Country_Region</th><th>Confirmed_sum</th><th>Deaths_sum</th><th>Recovered_sum</th></tr><tr><th></th><th>String⍰</th><th>String</th><th>Int64</th><th>Int64</th><th>Int64</th></tr></thead><tbody><p>315 rows × 5 columns</p><tr><th>1</th><td>missing</td><td>Italy</td><td>115242</td><td>13915</td><td>18278</td></tr><tr><th>2</th><td>missing</td><td>Spain</td><td>112065</td><td>10348</td><td>26743</td></tr><tr><th>3</th><td>New York</td><td>US</td><td>92506</td><td>2373</td><td>0</td></tr><tr><th>4</th><td>missing</td><td>Germany</td><td>84794</td><td>1107</td><td>22440</td></tr><tr><th>5</th><td>Hubei</td><td>China</td><td>67802</td><td>3199</td><td>63471</td></tr><tr><th>6</th><td>missing</td><td>France</td><td>59105</td><td>5387</td><td>12428</td></tr><tr><th>7</th><td>missing</td><td>Iran</td><td>50468</td><td>3160</td><td>16711</td></tr><tr><th>8</th><td>missing</td><td>United Kingdom</td><td>33718</td><td>2921</td><td>135</td></tr><tr><th>9</th><td>New Jersey</td><td>US</td><td>25590</td><td>537</td><td>0</td></tr><tr><th>10</th><td>missing</td><td>Switzerland</td><td>18827</td><td>536</td><td>4013</td></tr><tr><th>11</th><td>missing</td><td>Turkey</td><td>18135</td><td>356</td><td>415</td></tr><tr><th>12</th><td>missing</td><td>Belgium</td><td>15348</td><td>1011</td><td>2495</td></tr><tr><th>13</th><td>missing</td><td>Netherlands</td><td>14697</td><td>1339</td><td>250</td></tr><tr><th>14</th><td>missing</td><td>Austria</td><td>11129</td><td>158</td><td>1749</td></tr><tr><th>15</th><td>Michigan</td><td>US</td><td>10791</td><td>417</td><td>0</td></tr><tr><th>16</th><td>California</td><td>US</td><td>10773</td><td>238</td><td>0</td></tr><tr><th>17</th><td>missing</td><td>Korea, South</td><td>9976</td><td>169</td><td>5828</td></tr><tr><th>18</th><td>Louisiana</td><td>US</td><td>9159</td><td>310</td><td>0</td></tr><tr><th>19</th><td>missing</td><td>Portugal</td><td>9034</td><td>209</td><td>68</td></tr><tr><th>20</th><td>Florida</td><td>US</td><td>9008</td><td>164</td><td>0</td></tr><tr><th>21</th><td>Massachusetts</td><td>US</td><td>8966</td><td>154</td><td>0</td></tr><tr><th>22</th><td>missing</td><td>Brazil</td><td>8044</td><td>324</td><td>127</td></tr><tr><th>23</th><td>Illinois</td><td>US</td><td>7695</td><td>163</td><td>0</td></tr><tr><th>24</th><td>Pennsylvania</td><td>US</td><td>7268</td><td>90</td><td>0</td></tr><tr><th>25</th><td>missing</td><td>Israel</td><td>6857</td><td>36</td><td>338</td></tr><tr><th>26</th><td>Washington</td><td>US</td><td>6389</td><td>271</td><td>0</td></tr><tr><th>27</th><td>missing</td><td>Sweden</td><td>5568</td><td>308</td><td>103</td></tr><tr><th>28</th><td>Quebec</td><td>Canada</td><td>5518</td><td>36</td><td>0</td></tr><tr><th>29</th><td>Georgia</td><td>US</td><td>5348</td><td>163</td><td>0</td></tr><tr><th>30</th><td>missing</td><td>Norway</td><td>5147</td><td>50</td><td>32</td></tr><tr><th>&vellip;</th><td>&vellip;</td><td>&vellip;</td><td>&vellip;</td><td>&vellip;</td><td>&vellip;</td></tr></tbody></table>"
      ],
      "text/latex": [
       "\\begin{tabular}{r|ccccc}\n",
       "\t& Province\\_State & Country\\_Region & Confirmed\\_sum & Deaths\\_sum & Recovered\\_sum\\\\\n",
       "\t\\hline\n",
       "\t& String⍰ & String & Int64 & Int64 & Int64\\\\\n",
       "\t\\hline\n",
       "\t1 &  & Italy & 115242 & 13915 & 18278 \\\\\n",
       "\t2 &  & Spain & 112065 & 10348 & 26743 \\\\\n",
       "\t3 & New York & US & 92506 & 2373 & 0 \\\\\n",
       "\t4 &  & Germany & 84794 & 1107 & 22440 \\\\\n",
       "\t5 & Hubei & China & 67802 & 3199 & 63471 \\\\\n",
       "\t6 &  & France & 59105 & 5387 & 12428 \\\\\n",
       "\t7 &  & Iran & 50468 & 3160 & 16711 \\\\\n",
       "\t8 &  & United Kingdom & 33718 & 2921 & 135 \\\\\n",
       "\t9 & New Jersey & US & 25590 & 537 & 0 \\\\\n",
       "\t10 &  & Switzerland & 18827 & 536 & 4013 \\\\\n",
       "\t11 &  & Turkey & 18135 & 356 & 415 \\\\\n",
       "\t12 &  & Belgium & 15348 & 1011 & 2495 \\\\\n",
       "\t13 &  & Netherlands & 14697 & 1339 & 250 \\\\\n",
       "\t14 &  & Austria & 11129 & 158 & 1749 \\\\\n",
       "\t15 & Michigan & US & 10791 & 417 & 0 \\\\\n",
       "\t16 & California & US & 10773 & 238 & 0 \\\\\n",
       "\t17 &  & Korea, South & 9976 & 169 & 5828 \\\\\n",
       "\t18 & Louisiana & US & 9159 & 310 & 0 \\\\\n",
       "\t19 &  & Portugal & 9034 & 209 & 68 \\\\\n",
       "\t20 & Florida & US & 9008 & 164 & 0 \\\\\n",
       "\t21 & Massachusetts & US & 8966 & 154 & 0 \\\\\n",
       "\t22 &  & Brazil & 8044 & 324 & 127 \\\\\n",
       "\t23 & Illinois & US & 7695 & 163 & 0 \\\\\n",
       "\t24 & Pennsylvania & US & 7268 & 90 & 0 \\\\\n",
       "\t25 &  & Israel & 6857 & 36 & 338 \\\\\n",
       "\t26 & Washington & US & 6389 & 271 & 0 \\\\\n",
       "\t27 &  & Sweden & 5568 & 308 & 103 \\\\\n",
       "\t28 & Quebec & Canada & 5518 & 36 & 0 \\\\\n",
       "\t29 & Georgia & US & 5348 & 163 & 0 \\\\\n",
       "\t30 &  & Norway & 5147 & 50 & 32 \\\\\n",
       "\t$\\dots$ & $\\dots$ & $\\dots$ & $\\dots$ & $\\dots$ & $\\dots$ \\\\\n",
       "\\end{tabular}\n"
      ],
      "text/plain": [
       "315×5 DataFrame. Omitted printing of 3 columns\n",
       "│ Row │ Province_State                   │ Country_Region                   │\n",
       "│     │ \u001b[90mUnion{Missing, String}\u001b[39m           │ \u001b[90mString\u001b[39m                           │\n",
       "├─────┼──────────────────────────────────┼──────────────────────────────────┤\n",
       "│ 1   │ \u001b[90mmissing\u001b[39m                          │ Italy                            │\n",
       "│ 2   │ \u001b[90mmissing\u001b[39m                          │ Spain                            │\n",
       "│ 3   │ New York                         │ US                               │\n",
       "│ 4   │ \u001b[90mmissing\u001b[39m                          │ Germany                          │\n",
       "│ 5   │ Hubei                            │ China                            │\n",
       "│ 6   │ \u001b[90mmissing\u001b[39m                          │ France                           │\n",
       "│ 7   │ \u001b[90mmissing\u001b[39m                          │ Iran                             │\n",
       "│ 8   │ \u001b[90mmissing\u001b[39m                          │ United Kingdom                   │\n",
       "│ 9   │ New Jersey                       │ US                               │\n",
       "│ 10  │ \u001b[90mmissing\u001b[39m                          │ Switzerland                      │\n",
       "⋮\n",
       "│ 305 │ \u001b[90mmissing\u001b[39m                          │ Malawi                           │\n",
       "│ 306 │ Bonaire, Sint Eustatius and Saba │ Netherlands                      │\n",
       "│ 307 │ Northwest Territories            │ Canada                           │\n",
       "│ 308 │ \u001b[90mmissing\u001b[39m                          │ Saint Vincent and the Grenadines │\n",
       "│ 309 │ \u001b[90mmissing\u001b[39m                          │ Sierra Leone                     │\n",
       "│ 310 │ Tibet                            │ China                            │\n",
       "│ 311 │ \u001b[90mmissing\u001b[39m                          │ Papua New Guinea                 │\n",
       "│ 312 │ \u001b[90mmissing\u001b[39m                          │ Timor-Leste                      │\n",
       "│ 313 │ Diamond Princess                 │ Canada                           │\n",
       "│ 314 │ Recovered                        │ Canada                           │\n",
       "│ 315 │ Recovered                        │ US                               │"
      ]
     },
     "execution_count": 7,
     "metadata": {},
     "output_type": "execute_result"
    }
   ],
   "source": [
    "sort(df2, :Confirmed_sum , rev=true)\n"
   ]
  },
  {
   "cell_type": "code",
   "execution_count": null,
   "metadata": {},
   "outputs": [],
   "source": []
  }
 ],
 "metadata": {
  "colab": {
   "name": "julia_019_hw.ipynb",
   "provenance": []
  },
  "kernelspec": {
   "display_name": "Julia 1.1.0",
   "language": "julia",
   "name": "julia-1.1"
  },
  "language_info": {
   "file_extension": ".jl",
   "mimetype": "application/julia",
   "name": "julia",
   "version": "1.1.0"
  }
 },
 "nbformat": 4,
 "nbformat_minor": 1
}
