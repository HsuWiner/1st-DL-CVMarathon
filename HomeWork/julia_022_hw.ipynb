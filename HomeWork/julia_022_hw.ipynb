{
 "cells": [
  {
   "cell_type": "markdown",
   "metadata": {},
   "source": [
    "# Julia 基礎圖表繪製：Gadfly 二維資料圖表\n",
    "\n",
    "## 作業 022"
   ]
  },
  {
   "cell_type": "markdown",
   "metadata": {},
   "source": [
    "1. 散佈圖是二維資料的圖表表示，思考它適合用於展現資料的什麼特性？"
   ]
  },
  {
   "cell_type": "code",
   "execution_count": null,
   "metadata": {},
   "outputs": [],
   "source": [
    "為了求證二個變數的是否具有相關性"
   ]
  },
  {
   "cell_type": "markdown",
   "metadata": {},
   "source": [
    "2. 比較密度分佈圖與熱圖分別適合用於什麼樣的資料。[hint: 從資料的種類切入思考]"
   ]
  },
  {
   "cell_type": "code",
   "execution_count": null,
   "metadata": {},
   "outputs": [],
   "source": [
    "散佈圖適用於求證資料間的相關性\n",
    "熱圖則是為了表明二個變數之前的資料累積量"
   ]
  }
 ],
 "metadata": {
  "kernelspec": {
   "display_name": "Julia 1.1.0",
   "language": "julia",
   "name": "julia-1.1"
  },
  "language_info": {
   "file_extension": ".jl",
   "mimetype": "application/julia",
   "name": "julia",
   "version": "1.1.0"
  }
 },
 "nbformat": 4,
 "nbformat_minor": 4
}
